{
 "cells": [
  {
   "attachments": {},
   "cell_type": "markdown",
   "metadata": {},
   "source": [
    "1. First, create a list of dictionaries, each representing a card and its value. For example:"
   ]
  },
  {
   "cell_type": "code",
   "execution_count": 2,
   "metadata": {},
   "outputs": [],
   "source": [
    "cards = [    {'card': 'Ace of Spades', 'value': 11},    {'card': '2 of Spades', 'value': 2},    {'card': '4 of Spades', 'value': 4},    {'card': '2 of Spades', 'value': 2},    {'card': '2 of Spades', 'value': 2},    {'card': '2 of Spades', 'value': 2},    {'card': '2 of Spades', 'value': 2},    {'card': '2 of Spades', 'value': 2},    {'card': '2 of Spades', 'value': 2},    {'card': '2 of Spades', 'value': 2},    ]"
   ]
  },
  {
   "attachments": {},
   "cell_type": "markdown",
   "metadata": {},
   "source": [
    "2. Next, create a list of dictionaries, each representing a game and the score achieved by each player. For example:\n",
    "\n"
   ]
  },
  {
   "cell_type": "code",
   "execution_count": 3,
   "metadata": {},
   "outputs": [],
   "source": [
    "games = [    {'game': 1, 'player_1_score': 18, 'player_2_score': 15},    {'game': 2, 'player_1_score': 22, 'player_2_score': 20},    {'game': 3, 'player_1_score': 17, 'player_2_score': 19}, ]"
   ]
  },
  {
   "attachments": {},
   "cell_type": "markdown",
   "metadata": {},
   "source": [
    "3. Then, create a function that takes a card and a score as arguments and calculates the Pearson correlation coefficient between the two variables. This function can be used to determine the correlation between each card and score."
   ]
  },
  {
   "cell_type": "code",
   "execution_count": 4,
   "metadata": {},
   "outputs": [
    {
     "ename": "ModuleNotFoundError",
     "evalue": "No module named 'numpy'",
     "output_type": "error",
     "traceback": [
      "\u001b[0;31m---------------------------------------------------------------------------\u001b[0m",
      "\u001b[0;31mModuleNotFoundError\u001b[0m                       Traceback (most recent call last)",
      "Cell \u001b[0;32mIn[4], line 1\u001b[0m\n\u001b[0;32m----> 1\u001b[0m \u001b[39mimport\u001b[39;00m \u001b[39mnumpy\u001b[39;00m \u001b[39mas\u001b[39;00m \u001b[39mnp\u001b[39;00m\n\u001b[1;32m      3\u001b[0m \u001b[39mdef\u001b[39;00m \u001b[39mcalculate_correlation\u001b[39m(card, score):\n\u001b[1;32m      4\u001b[0m     card_values \u001b[39m=\u001b[39m [card[\u001b[39m'\u001b[39m\u001b[39mvalue\u001b[39m\u001b[39m'\u001b[39m] \u001b[39mfor\u001b[39;00m card \u001b[39min\u001b[39;00m cards]\n",
      "\u001b[0;31mModuleNotFoundError\u001b[0m: No module named 'numpy'"
     ]
    }
   ],
   "source": [
    "import numpy as np\n",
    "\n",
    "def calculate_correlation(card, score):\n",
    "    card_values = [card['value'] for card in cards]\n",
    "    scores = [game[score] for game in games]\n",
    "    return np.corrcoef(card_values, scores)[0,1]"
   ]
  },
  {
   "attachments": {},
   "cell_type": "markdown",
   "metadata": {},
   "source": [
    "3. To calculate the correlation between each card and score, you can iterate over the list of cards and use the calculate_correlation() function to determine the correlation between each card and score."
   ]
  },
  {
   "cell_type": "code",
   "execution_count": null,
   "metadata": {},
   "outputs": [],
   "source": [
    "for card in cards:\n",
    "    correlation = calculate_correlation(card, 'player_1_score')\n",
    "    print(f'The correlation between the {card[\"card\"]} and player 1 score is {correlation:.2f}')"
   ]
  },
  {
   "cell_type": "code",
   "execution_count": 2,
   "metadata": {},
   "outputs": [
    {
     "name": "stdout",
     "output_type": "stream",
     "text": [
      "['card', 'player_1_score', 'player_2_score']\n",
      "[\"card['card']\", \"calculate_correlation(card, 'player_1_score')\", \"calculate_correlation(card, 'player_2_score')\"]\n",
      "[\"card['card']\", \"calculate_correlation(card, 'player_1_score')\", \"calculate_correlation(card, 'player_2_score')\"]\n",
      "[\"card['card']\", \"calculate_correlation(card, 'player_1_score')\", \"calculate_correlation(card, 'player_2_score')\"]\n"
     ]
    }
   ],
   "source": [
    "\n",
    "import csv\n",
    "class Score:\n",
    "    def __init__(self):\n",
    "        self.create_n_clear_score_board()\n",
    "    \n",
    "    def create_n_clear_score_board(self):\n",
    "        with open('scores.csv', 'w') as f:\n",
    "            writer = csv.writer(f)\n",
    "            writer.writerow(['Commit', 'Games Played', 'Win/Loss/Nullified', 'Score', 'Score (%)', 'OverShoot', 'UnderShoot', 'Avg R.T (ms)'])\n",
    "    def update_score(self, commit, games_played, win_loss_nullified, score, score_percent, overshoot, undershoot, avg_rt):\n",
    "        # update sorted list\n",
    "        with open('scores.csv', 'a') as f:\n",
    "            writer = csv.writer(f)\n",
    "            writer.writerow([commit, games_played, win_loss_nullified, score, score_percent, overshoot, undershoot, avg_rt])\n",
    "        \n",
    "        self.sort_scores()  # sort the scores\n",
    "    \n",
    "    def get_scores(self, display_only=True):\n",
    "        rows = []\n",
    "        with open('scores.csv', newline='') as f:\n",
    "            reader = csv.reader(f)\n",
    "            if display_only:\n",
    "                for row in reader:\n",
    "                    print(row)\n",
    "            else:\n",
    "                for row in reader:\n",
    "                    rows.append(row)\n",
    "                return rows\n",
    "    \n",
    "    def sort_scores(self):\n",
    "        # sort the scores\n",
    "        with open('scores.csv', 'r') as f:\n",
    "            reader = csv.reader(f)\n",
    "            sortedlist = sorted(reader, key=lambda row: row[4], reverse=True)\n",
    "        # print(sortedlist)\n",
    "        with open('scores.csv', 'w', newline='') as f:\n",
    "            writer = csv.writer(f)\n",
    "            writer.writerows(sortedlist)\n",
    "\n",
    "s=Score()\n",
    "s.update_score('test0', 10, '5/3/2', 2, 20, 10, 10, 100)\n",
    "s.update_score('test1', 10, '5/3/2', 5, 25, 10, 10, 100)\n",
    "s.update_score('test2', 10, '5/3/2', 1, 19, 10, 10, 100)\n",
    "s.get_scores()\n",
    "'''\n",
    "Rank : By Scores\n",
    "Commit : commit message\n",
    "Games Played : No. of games played\n",
    "Win/Loss/Nullified : No. of games won/lost/nullified\n",
    "Score = win - loss\n",
    "Score (%) = (win/total_games_played)*100%\n",
    "OverShoot : sum(bid - scored)\n",
    "UnderShoot : sum(scored - bid)\n",
    "Date : Date of the game\n",
    "Avg R.T (ms) : Average reaction time in milliseconds\n",
    "'''\n"
   ]
  }
 ],
 "metadata": {
  "kernelspec": {
   "display_name": "Python 3",
   "language": "python",
   "name": "python3"
  },
  "language_info": {
   "codemirror_mode": {
    "name": "ipython",
    "version": 3
   },
   "file_extension": ".py",
   "mimetype": "text/x-python",
   "name": "python",
   "nbconvert_exporter": "python",
   "pygments_lexer": "ipython3",
   "version": "3.10.8"
  },
  "orig_nbformat": 4,
  "vscode": {
   "interpreter": {
    "hash": "767d51c1340bd893661ea55ea3124f6de3c7a262a8b4abca0554b478b1e2ff90"
   }
  }
 },
 "nbformat": 4,
 "nbformat_minor": 2
}
