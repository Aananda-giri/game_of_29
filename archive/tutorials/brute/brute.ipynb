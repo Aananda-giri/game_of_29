{
 "cells": [
  {
   "attachments": {},
   "cell_type": "markdown",
   "metadata": {},
   "source": [
    "Two player game\n",
    "all_cards = ['a','b', 'c', 'd', 'e', 'f', 'g', 'h']\n",
    "all_ranks = [1, 2, 3, 4, 5, 6, 7, 8]\n",
    "\n",
    "player a gets two random all_cards\n",
    "player b gets remaining 6 cards\n",
    "first thrower has an advantage of 0.5 * rank of card\n",
    "winner  gets to throw first\n",
    "\n",
    "how can we solve this game?\n",
    "\n",
    "\n"
   ]
  },
  {
   "cell_type": "code",
   "execution_count": 26,
   "metadata": {},
   "outputs": [
    {
     "name": "stdout",
     "output_type": "stream",
     "text": [
      "a_cards:['a', 'b'], b_cards: ['c', 'd', 'e', 'f', 'g', 'h'] Best card: b\n"
     ]
    }
   ],
   "source": [
    "import random\n",
    "\n",
    "def simulate_game(all_cards, all_ranks, a_cards, b_cards, first_thrower):\n",
    "    current_thrower = first_thrower\n",
    "    while len(a_cards) > 0 and len(b_cards) > 0:\n",
    "        if current_thrower == \"a\":\n",
    "            card = random.choice(a_cards)\n",
    "            a_cards.remove(card)\n",
    "            rank = all_ranks[all_cards.index(card)]\n",
    "        else:\n",
    "            card = random.choice(b_cards)\n",
    "            b_cards.remove(card)\n",
    "            rank = all_ranks[all_cards.index(card)]\n",
    "\n",
    "        if rank > all_ranks[max([all_cards.index(c) for c in a_cards + b_cards])]:\n",
    "            current_thrower = \"a\" if current_thrower == \"b\" else \"b\"\n",
    "\n",
    "    return \"a\" if len(a_cards) > 0 else \"b\"\n",
    "\n",
    "def solve_game(all_cards, all_ranks, a_cards, b_cards, first_thrower):\n",
    "    n = 1000 # number of simulations\n",
    "    win_counts = {card: 0 for card in a_cards}\n",
    "    for i in range(n):\n",
    "        random.shuffle(a_cards)\n",
    "        winner = simulate_game(all_cards, all_ranks, a_cards.copy(), b_cards.copy(), first_thrower)\n",
    "        if winner == \"a\":\n",
    "            win_counts[a_cards[0]] += 1\n",
    "\n",
    "    best_card = max(a_cards, key=lambda card: win_counts[card] / n + 0.5 * all_ranks[all_cards.index(card)])\n",
    "    return best_card\n",
    "\n",
    "all_cards = ['a','b', 'c', 'd', 'e', 'f', 'g', 'h']\n",
    "all_ranks = [1, 2, 3, 4, 5, 6, 7, 8]\n",
    "random.shuffle(all_cards)\n",
    "a_cards = all_cards[:2]\n",
    "b_cards = all_cards[2:]\n",
    "first_thrower = \"a\"\n",
    "best_card = solve_game(all_cards, all_ranks, a_cards, b_cards, first_thrower)\n",
    "print(f\"a_cards:{a_cards}, b_cards: {b_cards} Best card: {best_card}\")"
   ]
  },
  {
   "cell_type": "code",
   "execution_count": null,
   "metadata": {},
   "outputs": [],
   "source": [
    "import random\n",
    "\n",
    "def simulate_game(all_cards, all_ranks, a_cards, b_cards, first_thrower):\n",
    "    current_thrower = first_thrower\n",
    "    while len(a_cards) > 0 and len(b_cards) > 0:\n",
    "        if current_thrower == \"a\":\n",
    "            card = random.choice(a_cards)\n",
    "            a_cards.remove(card)\n",
    "            rank = all_ranks[all_cards.index(card)]\n",
    "        else:\n",
    "            card = random.choice(b_cards)\n",
    "            b_cards.remove(card)\n",
    "            rank = all_ranks[all_cards.index(card)]\n",
    "\n",
    "        if rank > all_ranks[max([all_cards.index(c) for c in a_cards + b_cards])]:\n",
    "            current_thrower = \"a\" if current_thrower == \"b\" else \"b\"\n",
    "\n",
    "    return \"a\" if len(a_cards) > 0 else \"b\"\n",
    "\n",
    "def solve_game(all_cards, all_ranks, a_cards, b_cards, first_thrower):\n",
    "    n = 1000 # number of simulations\n",
    "    win_counts = {card: 0 for card in a_cards}\n",
    "    for i in range(n):\n",
    "        random.shuffle(a_cards)\n",
    "        winner = simulate_game(all_cards, all_ranks, a_cards.copy(), b_cards.copy(), first_thrower)\n",
    "        if winner == \"a\":\n",
    "            win_counts[a_cards[0]] += 1\n",
    "\n",
    "    best_card = max(a_cards, key=lambda card: win_counts[card] / n + 0.5 * all_ranks[all_cards.index(card)])\n",
    "    return best_card\n",
    "\n",
    "all_cards = ['a','b', 'c', 'd', 'e', 'f', 'g', 'h']\n",
    "all_ranks = [1, 2, 3, 4, 5, 6, 7, 8]\n",
    "random.shuffle(all_cards)\n",
    "a_cards = all_cards[:2]\n",
    "b_cards = all_cards[2:]\n",
    "first_thrower = \"a\"\n",
    "best_card = solve_game(all_cards, all_ranks, a_cards, b_cards, first_thrower)\n",
    "print(f\"a_cards:{a_cards}, b_cards: {b_cards} Best card: {best_card}\")"
   ]
  },
  {
   "cell_type": "code",
   "execution_count": null,
   "metadata": {},
   "outputs": [],
   "source": [
    "# all cards\n",
    "import sys\n",
    "sys.path.append('/media/resources/programming/Artificial Intelligence/machine_learning/college/engine/python/src/')\n",
    "from utils import Card\n",
    "[str(card) for card in Card.get_all_cards()]"
   ]
  },
  {
   "cell_type": "code",
   "execution_count": null,
   "metadata": {},
   "outputs": [],
   "source": [
    "# biased random\n",
    "import numpy as np\n",
    "\n",
    "options = [1, 2]\n",
    "probabilities = [1/4, 3/4]\n",
    "\n",
    "random_number = np.random.choice(options, p=probabilities)\n",
    "print(random_number)"
   ]
  }
 ],
 "metadata": {
  "kernelspec": {
   "display_name": "Python 3",
   "language": "python",
   "name": "python3"
  },
  "language_info": {
   "codemirror_mode": {
    "name": "ipython",
    "version": 3
   },
   "file_extension": ".py",
   "mimetype": "text/x-python",
   "name": "python",
   "nbconvert_exporter": "python",
   "pygments_lexer": "ipython3",
   "version": "3.11.1 (main, Jan  6 2023, 00:00:00) [GCC 12.2.1 20221121 (Red Hat 12.2.1-4)]"
  },
  "orig_nbformat": 4,
  "vscode": {
   "interpreter": {
    "hash": "e7370f93d1d0cde622a1f8e1c04877d8463912d04d973331ad4851f04de6915a"
   }
  }
 },
 "nbformat": 4,
 "nbformat_minor": 2
}
