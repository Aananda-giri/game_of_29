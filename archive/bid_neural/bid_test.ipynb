{
 "cells": [
  {
   "cell_type": "code",
   "execution_count": 1,
   "metadata": {},
   "outputs": [
    {
     "name": "stdout",
     "output_type": "stream",
     "text": [
      "[[1. 0. 0. 0. 0. 0. 0. 0. 0. 0. 0. 0. 0. 0. 0. 0. 0. 0. 0. 0. 0. 0. 0. 0.\n",
      "  0. 0. 0. 0. 0. 0. 0. 0.]\n",
      " [0. 1. 0. 0. 0. 0. 0. 0. 0. 0. 0. 0. 0. 0. 0. 0. 0. 0. 0. 0. 0. 0. 0. 0.\n",
      "  0. 0. 0. 0. 0. 0. 0. 0.]\n",
      " [0. 0. 1. 0. 0. 0. 0. 0. 0. 0. 0. 0. 0. 0. 0. 0. 0. 0. 0. 0. 0. 0. 0. 0.\n",
      "  0. 0. 0. 0. 0. 0. 0. 0.]\n",
      " [0. 0. 0. 1. 0. 0. 0. 0. 0. 0. 0. 0. 0. 0. 0. 0. 0. 0. 0. 0. 0. 0. 0. 0.\n",
      "  0. 0. 0. 0. 0. 0. 0. 0.]]\n"
     ]
    }
   ],
   "source": [
    "# One hot encoding the inputs\n",
    "import numpy as np\n",
    "from sklearn.preprocessing import OneHotEncoder\n",
    "\n",
    "# all cards \n",
    "all_cards = ['7H', '8H', 'QH', 'KH', 'TH', '1H', '9H', 'JH', '7D', '8D', 'QD', 'KD', 'TD', '1D', '9D', 'JD', '7C', '8C', 'QC', 'KC', 'TC', '1C', '9C', 'JC', '7S', '8S', 'QS', 'KS', 'TS', '1S', '9S', 'JS']\n",
    "\n",
    "# Create a list of card names\n",
    "to_one_hot_encode = ['7H', '8H', 'QH', 'KH']\n",
    "\n",
    "# Create an instance of the one-hot encoder\n",
    "encoder = OneHotEncoder(categories=[all_cards])\n",
    "\n",
    "# reshape the input\n",
    "to_one_hot_encode_2d = np.array(to_one_hot_encode).reshape(-1, 1)\n",
    "\n",
    "# Fit the encoder to the list of card names\n",
    "encoder.fit(to_one_hot_encode_2d)\n",
    "\n",
    "# One-hot encode the card names\n",
    "one_hot_cards = encoder.transform(to_one_hot_encode_2d).toarray()\n",
    "print(one_hot_cards)"
   ]
  },
  {
   "cell_type": "code",
   "execution_count": 4,
   "metadata": {},
   "outputs": [
    {
     "data": {
      "text/html": [
       "<div>\n",
       "<style scoped>\n",
       "    .dataframe tbody tr th:only-of-type {\n",
       "        vertical-align: middle;\n",
       "    }\n",
       "\n",
       "    .dataframe tbody tr th {\n",
       "        vertical-align: top;\n",
       "    }\n",
       "\n",
       "    .dataframe thead th {\n",
       "        text-align: right;\n",
       "    }\n",
       "</style>\n",
       "<table border=\"1\" class=\"dataframe\">\n",
       "  <thead>\n",
       "    <tr style=\"text-align: right;\">\n",
       "      <th></th>\n",
       "      <th>cards_9S</th>\n",
       "      <th>cards_AD</th>\n",
       "      <th>cards_JH</th>\n",
       "      <th>cards_QC</th>\n",
       "    </tr>\n",
       "  </thead>\n",
       "  <tbody>\n",
       "    <tr>\n",
       "      <th>0</th>\n",
       "      <td>0</td>\n",
       "      <td>1</td>\n",
       "      <td>0</td>\n",
       "      <td>0</td>\n",
       "    </tr>\n",
       "    <tr>\n",
       "      <th>1</th>\n",
       "      <td>0</td>\n",
       "      <td>0</td>\n",
       "      <td>0</td>\n",
       "      <td>1</td>\n",
       "    </tr>\n",
       "    <tr>\n",
       "      <th>2</th>\n",
       "      <td>0</td>\n",
       "      <td>0</td>\n",
       "      <td>1</td>\n",
       "      <td>0</td>\n",
       "    </tr>\n",
       "    <tr>\n",
       "      <th>3</th>\n",
       "      <td>1</td>\n",
       "      <td>0</td>\n",
       "      <td>0</td>\n",
       "      <td>0</td>\n",
       "    </tr>\n",
       "  </tbody>\n",
       "</table>\n",
       "</div>"
      ],
      "text/plain": [
       "   cards_9S  cards_AD  cards_JH  cards_QC\n",
       "0         0         1         0         0\n",
       "1         0         0         0         1\n",
       "2         0         0         1         0\n",
       "3         1         0         0         0"
      ]
     },
     "execution_count": 4,
     "metadata": {},
     "output_type": "execute_result"
    }
   ],
   "source": [
    "import pandas as pd\n",
    "\n",
    "# Create a list of card names\n",
    "cards = ['AD', 'QC', 'JH', '9S']\n",
    "\n",
    "cards_df = pd.DataFrame({'cards': cards})\n",
    "one_hot_cards = pd.get_dummies(cards_df, columns=['cards'])\n",
    "one_hot_cards\n"
   ]
  },
  {
   "cell_type": "code",
   "execution_count": 27,
   "metadata": {},
   "outputs": [
    {
     "ename": "ModuleNotFoundError",
     "evalue": "No module named 'keras'",
     "output_type": "error",
     "traceback": [
      "\u001b[0;31m---------------------------------------------------------------------------\u001b[0m",
      "\u001b[0;31mModuleNotFoundError\u001b[0m                       Traceback (most recent call last)",
      "Cell \u001b[0;32mIn[27], line 2\u001b[0m\n\u001b[1;32m      1\u001b[0m \u001b[39mimport\u001b[39;00m \u001b[39mnumpy\u001b[39;00m \u001b[39mas\u001b[39;00m \u001b[39mnp\u001b[39;00m\n\u001b[0;32m----> 2\u001b[0m \u001b[39mfrom\u001b[39;00m \u001b[39mkeras\u001b[39;00m\u001b[39m.\u001b[39;00m\u001b[39mmodels\u001b[39;00m \u001b[39mimport\u001b[39;00m Sequential\n\u001b[1;32m      3\u001b[0m \u001b[39mfrom\u001b[39;00m \u001b[39mkeras\u001b[39;00m\u001b[39m.\u001b[39;00m\u001b[39mlayers\u001b[39;00m \u001b[39mimport\u001b[39;00m Dense\n\u001b[1;32m      5\u001b[0m \u001b[39m# Create the model\u001b[39;00m\n",
      "\u001b[0;31mModuleNotFoundError\u001b[0m: No module named 'keras'"
     ]
    }
   ],
   "source": [
    "import numpy as np\n",
    "from keras.models import Sequential\n",
    "from keras.layers import Dense\n",
    "\n",
    "# Create the model\n",
    "model = Sequential()\n",
    "model.add(Dense(64, input_shape=(32,), activation='relu'))\n",
    "model.add(Dense(64, activation='relu'))\n",
    "model.add(Dense(2, activation='linear'))\n",
    "\n",
    "# Compile the model\n",
    "model.compile(optimizer='adam', loss='mean_squared_error')\n",
    "\n",
    "# Generate some dummy data for training\n",
    "num_samples = 1000\n",
    "# x_train = np.random.rand(num_samples, 32)\n",
    "x_train = np.zeros((100, 32))\n",
    "for i in range(100):\n",
    "    indices = np.random.choice(32, 4, replace=False)\n",
    "    x_train[i, indices] = 1\n",
    "y_train = np.random.randint(0, 29, size=(num_samples, 2))\n",
    "\n",
    "# Train the model\n",
    "model.fit(x_train, y_train, epochs=10)"
   ]
  },
  {
   "cell_type": "code",
   "execution_count": null,
   "metadata": {},
   "outputs": [],
   "source": [
    "x_train = np.zeros((100, 32))\n",
    "\n",
    "# # Generate four random indices\n",
    "indices = np.random.randint(0, 32, 4)\n",
    "indices\n",
    "\n",
    "# Set the elements at the generated indices to 1\n",
    "x_train[0, indices] = 1\n",
    "\n",
    "for i in range(100):\n",
    "    # indices = np.random.randint(0, 32, 4)\n",
    "    indices = np.random.choice(32, 4, replace=False)\n",
    "    x_train[i, indices] = 1\n",
    " "
   ]
  },
  {
   "cell_type": "code",
   "execution_count": 28,
   "metadata": {},
   "outputs": [
    {
     "data": {
      "text/plain": [
       "array([0., 0., 0., 0., 0., 0., 0., 0., 0., 0., 0., 0., 1., 1., 0., 1., 0.,\n",
       "       0., 0., 0., 0., 0., 0., 0., 0., 0., 0., 0., 0., 1., 0., 0.])"
      ]
     },
     "execution_count": 28,
     "metadata": {},
     "output_type": "execute_result"
    }
   ],
   "source": [
    "import numpy as np\n",
    "from keras.layers import Dense\n",
    "from keras.models import Sequential\n",
    "from sklearn.preprocessing import LabelEncoder, OneHotEncoder\n",
    "\n",
    "# all cards \n",
    "all_cards = ['7H', '8H', 'QH', 'KH', 'TH', '1H', '9H', 'JH', '7D', '8D', 'QD', 'KD', 'TD', '1D', '9D', 'JD', '7C', '8C', 'QC', 'KC', 'TC', '1C', '9C', 'JC', '7S', '8S', 'QS', 'KS', 'TS', '1S', '9S', 'JS']\n",
    "\n",
    "# Create a list of card names\n",
    "to_one_hot_encode = ['AD', 'QC', 'JH', '9S','1S','9D','KH','KS']\n",
    "\n",
    "# one hot encode the input cards\n",
    "label_encoder = LabelEncoder()\n",
    "integer_encoded = label_encoder.fit_transform(all_cards)\n",
    "onehot_encoder = OneHotEncoder(sparse=False)\n",
    "integer_encoded = integer_encoded.reshape(len(integer_encoded), 1)\n",
    "onehot_encoded = onehot_encoder.fit_transform(integer_encoded)\n",
    "\n",
    "# create a neural network\n",
    "model = Sequential()\n",
    "model.add(Dense(32, input_dim=32, activation='relu'))\n",
    "model.add(Dense(1, activation='softmax'))\n",
    "model.compile(loss='categorical_crossentropy', optimizer='adam', metrics=['accuracy'])\n",
    "\n",
    "# train the model\n",
    "x_train = onehot_encoded[:, :8]\n",
    "y_train = onehot_encoded[:, 8:]\n",
    "model.fit(x_train, y_train, epochs=100, batch_size=1)"
   ]
  }
 ],
 "metadata": {
  "kernelspec": {
   "display_name": "machine_env",
   "language": "python",
   "name": "python3"
  },
  "language_info": {
   "codemirror_mode": {
    "name": "ipython",
    "version": 3
   },
   "file_extension": ".py",
   "mimetype": "text/x-python",
   "name": "python",
   "nbconvert_exporter": "python",
   "pygments_lexer": "ipython3",
   "version": "3.11.1 (main, Jan  6 2023, 00:00:00) [GCC 12.2.1 20221121 (Red Hat 12.2.1-4)]"
  },
  "orig_nbformat": 4,
  "vscode": {
   "interpreter": {
    "hash": "e84f7273cc00f82bb2a2dad8581e9d3cd89c6fb4c2099014e5213f71a808be97"
   }
  }
 },
 "nbformat": 4,
 "nbformat_minor": 2
}
